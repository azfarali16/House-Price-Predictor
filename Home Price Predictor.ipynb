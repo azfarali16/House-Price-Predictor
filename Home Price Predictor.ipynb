{
 "cells": [
  {
   "cell_type": "markdown",
   "id": "cfe21e7b",
   "metadata": {},
   "source": [
    "# House Price Predictor Model"
   ]
  },
  {
   "cell_type": "markdown",
   "id": "8f00dda3",
   "metadata": {},
   "source": [
    "## Objective: \n",
    "Build a House Price Prediciton Model For Houses in Karachi"
   ]
  },
  {
   "cell_type": "code",
   "execution_count": 1,
   "id": "ce1aa2cc",
   "metadata": {},
   "outputs": [],
   "source": [
    "import numpy as np\n",
    "import pandas as pd\n",
    "import matplotlib.pyplot as plt\n",
    "import seaborn as sns"
   ]
  },
  {
   "cell_type": "code",
   "execution_count": 2,
   "id": "63dd6535",
   "metadata": {},
   "outputs": [
    {
     "data": {
      "text/html": [
       "<div>\n",
       "<style scoped>\n",
       "    .dataframe tbody tr th:only-of-type {\n",
       "        vertical-align: middle;\n",
       "    }\n",
       "\n",
       "    .dataframe tbody tr th {\n",
       "        vertical-align: top;\n",
       "    }\n",
       "\n",
       "    .dataframe thead th {\n",
       "        text-align: right;\n",
       "    }\n",
       "</style>\n",
       "<table border=\"1\" class=\"dataframe\">\n",
       "  <thead>\n",
       "    <tr style=\"text-align: right;\">\n",
       "      <th></th>\n",
       "      <th>Unnamed: 0</th>\n",
       "      <th>property_id</th>\n",
       "      <th>location_id</th>\n",
       "      <th>page_url</th>\n",
       "      <th>property_type</th>\n",
       "      <th>price</th>\n",
       "      <th>location</th>\n",
       "      <th>city</th>\n",
       "      <th>province_name</th>\n",
       "      <th>latitude</th>\n",
       "      <th>longitude</th>\n",
       "      <th>baths</th>\n",
       "      <th>purpose</th>\n",
       "      <th>bedrooms</th>\n",
       "      <th>date_added</th>\n",
       "      <th>agency</th>\n",
       "      <th>agent</th>\n",
       "      <th>Total_Area</th>\n",
       "    </tr>\n",
       "  </thead>\n",
       "  <tbody>\n",
       "    <tr>\n",
       "      <th>0</th>\n",
       "      <td>0</td>\n",
       "      <td>237062</td>\n",
       "      <td>3325</td>\n",
       "      <td>https://www.zameen.com/Property/g_10_g_10_2_gr...</td>\n",
       "      <td>Flat</td>\n",
       "      <td>10000000</td>\n",
       "      <td>G-10</td>\n",
       "      <td>Islamabad</td>\n",
       "      <td>Islamabad Capital</td>\n",
       "      <td>33.679890</td>\n",
       "      <td>73.012640</td>\n",
       "      <td>2</td>\n",
       "      <td>For Sale</td>\n",
       "      <td>2</td>\n",
       "      <td>2/4/2019</td>\n",
       "      <td>NaN</td>\n",
       "      <td>NaN</td>\n",
       "      <td>1089.004</td>\n",
       "    </tr>\n",
       "    <tr>\n",
       "      <th>1</th>\n",
       "      <td>1</td>\n",
       "      <td>346905</td>\n",
       "      <td>3236</td>\n",
       "      <td>https://www.zameen.com/Property/e_11_2_service...</td>\n",
       "      <td>Flat</td>\n",
       "      <td>6900000</td>\n",
       "      <td>E-11</td>\n",
       "      <td>Islamabad</td>\n",
       "      <td>Islamabad Capital</td>\n",
       "      <td>33.700993</td>\n",
       "      <td>72.971492</td>\n",
       "      <td>3</td>\n",
       "      <td>For Sale</td>\n",
       "      <td>3</td>\n",
       "      <td>5/4/2019</td>\n",
       "      <td>NaN</td>\n",
       "      <td>NaN</td>\n",
       "      <td>15246.056</td>\n",
       "    </tr>\n",
       "    <tr>\n",
       "      <th>2</th>\n",
       "      <td>2</td>\n",
       "      <td>386513</td>\n",
       "      <td>764</td>\n",
       "      <td>https://www.zameen.com/Property/islamabad_g_15...</td>\n",
       "      <td>House</td>\n",
       "      <td>16500000</td>\n",
       "      <td>G-15</td>\n",
       "      <td>Islamabad</td>\n",
       "      <td>Islamabad Capital</td>\n",
       "      <td>33.631486</td>\n",
       "      <td>72.926559</td>\n",
       "      <td>6</td>\n",
       "      <td>For Sale</td>\n",
       "      <td>5</td>\n",
       "      <td>7/17/2019</td>\n",
       "      <td>NaN</td>\n",
       "      <td>NaN</td>\n",
       "      <td>2178.008</td>\n",
       "    </tr>\n",
       "    <tr>\n",
       "      <th>3</th>\n",
       "      <td>3</td>\n",
       "      <td>656161</td>\n",
       "      <td>340</td>\n",
       "      <td>https://www.zameen.com/Property/islamabad_bani...</td>\n",
       "      <td>House</td>\n",
       "      <td>43500000</td>\n",
       "      <td>Bani Gala</td>\n",
       "      <td>Islamabad</td>\n",
       "      <td>Islamabad Capital</td>\n",
       "      <td>33.707573</td>\n",
       "      <td>73.151199</td>\n",
       "      <td>4</td>\n",
       "      <td>For Sale</td>\n",
       "      <td>4</td>\n",
       "      <td>4/5/2019</td>\n",
       "      <td>NaN</td>\n",
       "      <td>NaN</td>\n",
       "      <td>10890.000</td>\n",
       "    </tr>\n",
       "    <tr>\n",
       "      <th>4</th>\n",
       "      <td>4</td>\n",
       "      <td>841645</td>\n",
       "      <td>3226</td>\n",
       "      <td>https://www.zameen.com/Property/dha_valley_dha...</td>\n",
       "      <td>House</td>\n",
       "      <td>7000000</td>\n",
       "      <td>DHA Defence</td>\n",
       "      <td>Islamabad</td>\n",
       "      <td>Islamabad Capital</td>\n",
       "      <td>33.492591</td>\n",
       "      <td>73.301339</td>\n",
       "      <td>3</td>\n",
       "      <td>For Sale</td>\n",
       "      <td>3</td>\n",
       "      <td>7/10/2019</td>\n",
       "      <td>Easy Property</td>\n",
       "      <td>Muhammad Junaid Ceo Muhammad Shahid Director</td>\n",
       "      <td>2178.008</td>\n",
       "    </tr>\n",
       "  </tbody>\n",
       "</table>\n",
       "</div>"
      ],
      "text/plain": [
       "   Unnamed: 0  property_id  location_id  \\\n",
       "0           0       237062         3325   \n",
       "1           1       346905         3236   \n",
       "2           2       386513          764   \n",
       "3           3       656161          340   \n",
       "4           4       841645         3226   \n",
       "\n",
       "                                            page_url property_type     price  \\\n",
       "0  https://www.zameen.com/Property/g_10_g_10_2_gr...          Flat  10000000   \n",
       "1  https://www.zameen.com/Property/e_11_2_service...          Flat   6900000   \n",
       "2  https://www.zameen.com/Property/islamabad_g_15...         House  16500000   \n",
       "3  https://www.zameen.com/Property/islamabad_bani...         House  43500000   \n",
       "4  https://www.zameen.com/Property/dha_valley_dha...         House   7000000   \n",
       "\n",
       "      location       city      province_name   latitude  longitude  baths  \\\n",
       "0         G-10  Islamabad  Islamabad Capital  33.679890  73.012640      2   \n",
       "1         E-11  Islamabad  Islamabad Capital  33.700993  72.971492      3   \n",
       "2         G-15  Islamabad  Islamabad Capital  33.631486  72.926559      6   \n",
       "3    Bani Gala  Islamabad  Islamabad Capital  33.707573  73.151199      4   \n",
       "4  DHA Defence  Islamabad  Islamabad Capital  33.492591  73.301339      3   \n",
       "\n",
       "    purpose  bedrooms date_added         agency  \\\n",
       "0  For Sale         2   2/4/2019            NaN   \n",
       "1  For Sale         3   5/4/2019            NaN   \n",
       "2  For Sale         5  7/17/2019            NaN   \n",
       "3  For Sale         4   4/5/2019            NaN   \n",
       "4  For Sale         3  7/10/2019  Easy Property   \n",
       "\n",
       "                                          agent  Total_Area  \n",
       "0                                           NaN    1089.004  \n",
       "1                                           NaN   15246.056  \n",
       "2                                           NaN    2178.008  \n",
       "3                                           NaN   10890.000  \n",
       "4  Muhammad Junaid Ceo Muhammad Shahid Director    2178.008  "
      ]
     },
     "execution_count": 2,
     "metadata": {},
     "output_type": "execute_result"
    }
   ],
   "source": [
    "path = 'Entities.csv'\n",
    "df = pd.read_csv(path)\n",
    "df.head()"
   ]
  },
  {
   "cell_type": "code",
   "execution_count": 3,
   "id": "f139ae8f",
   "metadata": {},
   "outputs": [
    {
     "data": {
      "text/plain": [
       "Index(['Unnamed: 0', 'property_id', 'location_id', 'page_url', 'property_type',\n",
       "       'price', 'location', 'city', 'province_name', 'latitude', 'longitude',\n",
       "       'baths', 'purpose', 'bedrooms', 'date_added', 'agency', 'agent',\n",
       "       'Total_Area'],\n",
       "      dtype='object')"
      ]
     },
     "execution_count": 3,
     "metadata": {},
     "output_type": "execute_result"
    }
   ],
   "source": [
    "df.columns"
   ]
  },
  {
   "cell_type": "code",
   "execution_count": 4,
   "id": "b75af667",
   "metadata": {},
   "outputs": [
    {
     "data": {
      "text/html": [
       "<div>\n",
       "<style scoped>\n",
       "    .dataframe tbody tr th:only-of-type {\n",
       "        vertical-align: middle;\n",
       "    }\n",
       "\n",
       "    .dataframe tbody tr th {\n",
       "        vertical-align: top;\n",
       "    }\n",
       "\n",
       "    .dataframe thead th {\n",
       "        text-align: right;\n",
       "    }\n",
       "</style>\n",
       "<table border=\"1\" class=\"dataframe\">\n",
       "  <thead>\n",
       "    <tr style=\"text-align: right;\">\n",
       "      <th></th>\n",
       "      <th>property_type</th>\n",
       "      <th>price</th>\n",
       "      <th>location</th>\n",
       "      <th>city</th>\n",
       "      <th>province_name</th>\n",
       "      <th>baths</th>\n",
       "      <th>purpose</th>\n",
       "      <th>bedrooms</th>\n",
       "      <th>Total_Area</th>\n",
       "    </tr>\n",
       "  </thead>\n",
       "  <tbody>\n",
       "    <tr>\n",
       "      <th>0</th>\n",
       "      <td>Flat</td>\n",
       "      <td>10000000</td>\n",
       "      <td>G-10</td>\n",
       "      <td>Islamabad</td>\n",
       "      <td>Islamabad Capital</td>\n",
       "      <td>2</td>\n",
       "      <td>For Sale</td>\n",
       "      <td>2</td>\n",
       "      <td>1089.004</td>\n",
       "    </tr>\n",
       "    <tr>\n",
       "      <th>1</th>\n",
       "      <td>Flat</td>\n",
       "      <td>6900000</td>\n",
       "      <td>E-11</td>\n",
       "      <td>Islamabad</td>\n",
       "      <td>Islamabad Capital</td>\n",
       "      <td>3</td>\n",
       "      <td>For Sale</td>\n",
       "      <td>3</td>\n",
       "      <td>15246.056</td>\n",
       "    </tr>\n",
       "    <tr>\n",
       "      <th>2</th>\n",
       "      <td>House</td>\n",
       "      <td>16500000</td>\n",
       "      <td>G-15</td>\n",
       "      <td>Islamabad</td>\n",
       "      <td>Islamabad Capital</td>\n",
       "      <td>6</td>\n",
       "      <td>For Sale</td>\n",
       "      <td>5</td>\n",
       "      <td>2178.008</td>\n",
       "    </tr>\n",
       "    <tr>\n",
       "      <th>3</th>\n",
       "      <td>House</td>\n",
       "      <td>43500000</td>\n",
       "      <td>Bani Gala</td>\n",
       "      <td>Islamabad</td>\n",
       "      <td>Islamabad Capital</td>\n",
       "      <td>4</td>\n",
       "      <td>For Sale</td>\n",
       "      <td>4</td>\n",
       "      <td>10890.000</td>\n",
       "    </tr>\n",
       "    <tr>\n",
       "      <th>4</th>\n",
       "      <td>House</td>\n",
       "      <td>7000000</td>\n",
       "      <td>DHA Defence</td>\n",
       "      <td>Islamabad</td>\n",
       "      <td>Islamabad Capital</td>\n",
       "      <td>3</td>\n",
       "      <td>For Sale</td>\n",
       "      <td>3</td>\n",
       "      <td>2178.008</td>\n",
       "    </tr>\n",
       "  </tbody>\n",
       "</table>\n",
       "</div>"
      ],
      "text/plain": [
       "  property_type     price     location       city      province_name  baths  \\\n",
       "0          Flat  10000000         G-10  Islamabad  Islamabad Capital      2   \n",
       "1          Flat   6900000         E-11  Islamabad  Islamabad Capital      3   \n",
       "2         House  16500000         G-15  Islamabad  Islamabad Capital      6   \n",
       "3         House  43500000    Bani Gala  Islamabad  Islamabad Capital      4   \n",
       "4         House   7000000  DHA Defence  Islamabad  Islamabad Capital      3   \n",
       "\n",
       "    purpose  bedrooms  Total_Area  \n",
       "0  For Sale         2    1089.004  \n",
       "1  For Sale         3   15246.056  \n",
       "2  For Sale         5    2178.008  \n",
       "3  For Sale         4   10890.000  \n",
       "4  For Sale         3    2178.008  "
      ]
     },
     "execution_count": 4,
     "metadata": {},
     "output_type": "execute_result"
    }
   ],
   "source": [
    "cols_to_keep = [ 'property_type',\n",
    "       'price', 'location', 'city', 'province_name',\n",
    "       'baths', 'purpose', 'bedrooms', \n",
    "       'Total_Area']\n",
    "\n",
    "df = df[cols_to_keep]\n",
    "df.head()"
   ]
  },
  {
   "cell_type": "code",
   "execution_count": 5,
   "id": "426f264d",
   "metadata": {},
   "outputs": [
    {
     "name": "stdout",
     "output_type": "stream",
     "text": [
      "<class 'pandas.core.frame.DataFrame'>\n",
      "RangeIndex: 168446 entries, 0 to 168445\n",
      "Data columns (total 9 columns):\n",
      " #   Column         Non-Null Count   Dtype  \n",
      "---  ------         --------------   -----  \n",
      " 0   property_type  168446 non-null  object \n",
      " 1   price          168446 non-null  int64  \n",
      " 2   location       168446 non-null  object \n",
      " 3   city           168446 non-null  object \n",
      " 4   province_name  168446 non-null  object \n",
      " 5   baths          168446 non-null  int64  \n",
      " 6   purpose        168446 non-null  object \n",
      " 7   bedrooms       168446 non-null  int64  \n",
      " 8   Total_Area     168446 non-null  float64\n",
      "dtypes: float64(1), int64(3), object(5)\n",
      "memory usage: 11.6+ MB\n"
     ]
    }
   ],
   "source": [
    "df.info()"
   ]
  },
  {
   "cell_type": "code",
   "execution_count": 6,
   "id": "1c60d670",
   "metadata": {},
   "outputs": [
    {
     "data": {
      "text/plain": [
       "array(['Islamabad Capital', 'Punjab', 'Sindh'], dtype=object)"
      ]
     },
     "execution_count": 6,
     "metadata": {},
     "output_type": "execute_result"
    }
   ],
   "source": [
    "df.province_name.unique()"
   ]
  },
  {
   "cell_type": "code",
   "execution_count": 7,
   "id": "af63a2d9",
   "metadata": {},
   "outputs": [
    {
     "data": {
      "text/plain": [
       "array(['Islamabad', 'Lahore', 'Faisalabad', 'Rawalpindi', 'Karachi'],\n",
       "      dtype=object)"
      ]
     },
     "execution_count": 7,
     "metadata": {},
     "output_type": "execute_result"
    }
   ],
   "source": [
    "df.city.unique()"
   ]
  },
  {
   "cell_type": "code",
   "execution_count": 8,
   "id": "418188bc",
   "metadata": {},
   "outputs": [
    {
     "data": {
      "text/html": [
       "<div>\n",
       "<style scoped>\n",
       "    .dataframe tbody tr th:only-of-type {\n",
       "        vertical-align: middle;\n",
       "    }\n",
       "\n",
       "    .dataframe tbody tr th {\n",
       "        vertical-align: top;\n",
       "    }\n",
       "\n",
       "    .dataframe thead th {\n",
       "        text-align: right;\n",
       "    }\n",
       "</style>\n",
       "<table border=\"1\" class=\"dataframe\">\n",
       "  <thead>\n",
       "    <tr style=\"text-align: right;\">\n",
       "      <th></th>\n",
       "      <th>property_type</th>\n",
       "      <th>price</th>\n",
       "      <th>location</th>\n",
       "      <th>city</th>\n",
       "      <th>province_name</th>\n",
       "      <th>baths</th>\n",
       "      <th>purpose</th>\n",
       "      <th>bedrooms</th>\n",
       "      <th>Total_Area</th>\n",
       "    </tr>\n",
       "  </thead>\n",
       "  <tbody>\n",
       "    <tr>\n",
       "      <th>156</th>\n",
       "      <td>House</td>\n",
       "      <td>450000000</td>\n",
       "      <td>Cantt</td>\n",
       "      <td>Karachi</td>\n",
       "      <td>Sindh</td>\n",
       "      <td>7</td>\n",
       "      <td>For Sale</td>\n",
       "      <td>6</td>\n",
       "      <td>21780.000</td>\n",
       "    </tr>\n",
       "    <tr>\n",
       "      <th>157</th>\n",
       "      <td>House</td>\n",
       "      <td>35000000</td>\n",
       "      <td>Gulistan-e-Jauhar</td>\n",
       "      <td>Karachi</td>\n",
       "      <td>Sindh</td>\n",
       "      <td>8</td>\n",
       "      <td>For Sale</td>\n",
       "      <td>6</td>\n",
       "      <td>4356.016</td>\n",
       "    </tr>\n",
       "    <tr>\n",
       "      <th>158</th>\n",
       "      <td>Flat</td>\n",
       "      <td>21000000</td>\n",
       "      <td>DHA Defence</td>\n",
       "      <td>Karachi</td>\n",
       "      <td>Sindh</td>\n",
       "      <td>3</td>\n",
       "      <td>For Sale</td>\n",
       "      <td>3</td>\n",
       "      <td>24230.339</td>\n",
       "    </tr>\n",
       "    <tr>\n",
       "      <th>159</th>\n",
       "      <td>House</td>\n",
       "      <td>6500000</td>\n",
       "      <td>Malir</td>\n",
       "      <td>Karachi</td>\n",
       "      <td>Sindh</td>\n",
       "      <td>1</td>\n",
       "      <td>For Sale</td>\n",
       "      <td>2</td>\n",
       "      <td>8712.032</td>\n",
       "    </tr>\n",
       "    <tr>\n",
       "      <th>160</th>\n",
       "      <td>House</td>\n",
       "      <td>13000000</td>\n",
       "      <td>Gadap Town</td>\n",
       "      <td>Karachi</td>\n",
       "      <td>Sindh</td>\n",
       "      <td>4</td>\n",
       "      <td>For Sale</td>\n",
       "      <td>4</td>\n",
       "      <td>26136.096</td>\n",
       "    </tr>\n",
       "  </tbody>\n",
       "</table>\n",
       "</div>"
      ],
      "text/plain": [
       "    property_type      price           location     city province_name  baths  \\\n",
       "156         House  450000000              Cantt  Karachi         Sindh      7   \n",
       "157         House   35000000  Gulistan-e-Jauhar  Karachi         Sindh      8   \n",
       "158          Flat   21000000        DHA Defence  Karachi         Sindh      3   \n",
       "159         House    6500000              Malir  Karachi         Sindh      1   \n",
       "160         House   13000000         Gadap Town  Karachi         Sindh      4   \n",
       "\n",
       "      purpose  bedrooms  Total_Area  \n",
       "156  For Sale         6   21780.000  \n",
       "157  For Sale         6    4356.016  \n",
       "158  For Sale         3   24230.339  \n",
       "159  For Sale         2    8712.032  \n",
       "160  For Sale         4   26136.096  "
      ]
     },
     "execution_count": 8,
     "metadata": {},
     "output_type": "execute_result"
    }
   ],
   "source": [
    "# since we have to make it for Karachi only. Subsetting df\n",
    "\n",
    "df = df[df['city'] == 'Karachi']\n",
    "df.head()"
   ]
  },
  {
   "cell_type": "code",
   "execution_count": 9,
   "id": "e4fe1277",
   "metadata": {},
   "outputs": [
    {
     "data": {
      "text/plain": [
       "array(['House', 'Flat', 'Room', 'Lower Portion', 'Upper Portion',\n",
       "       'Penthouse', 'Farm House'], dtype=object)"
      ]
     },
     "execution_count": 9,
     "metadata": {},
     "output_type": "execute_result"
    }
   ],
   "source": [
    "df.property_type.unique()"
   ]
  },
  {
   "cell_type": "code",
   "execution_count": 10,
   "id": "426244af",
   "metadata": {},
   "outputs": [
    {
     "data": {
      "text/plain": [
       "array(['House', 'Flat', 'Lower Portion', 'Upper Portion'], dtype=object)"
      ]
     },
     "execution_count": 10,
     "metadata": {},
     "output_type": "execute_result"
    }
   ],
   "source": [
    "# keeping the model genereic. removin penthhouse and farm house\n",
    "property_to_rem = ['Penthouse','Farm House','Room']\n",
    "bool_mask = df['property_type'].isin(property_to_rem)\n",
    "df = df[~(bool_mask)]\n",
    "df.property_type.unique()"
   ]
  },
  {
   "cell_type": "code",
   "execution_count": 11,
   "id": "e8838256",
   "metadata": {},
   "outputs": [],
   "source": [
    "# removing extra col like city and province_name since like we are only targeting karachi\n",
    "cols_to_rem = ['city','province_name']\n",
    "df.drop(columns=cols_to_rem,inplace = True)"
   ]
  },
  {
   "cell_type": "markdown",
   "id": "dd75139b",
   "metadata": {},
   "source": [
    "data cleaning"
   ]
  },
  {
   "cell_type": "code",
   "execution_count": 12,
   "id": "59d02d7c",
   "metadata": {},
   "outputs": [],
   "source": [
    "df1 = df.copy()"
   ]
  },
  {
   "cell_type": "code",
   "execution_count": 13,
   "id": "cbd61ed0",
   "metadata": {},
   "outputs": [
    {
     "data": {
      "text/plain": [
       "property_type    0\n",
       "price            0\n",
       "location         0\n",
       "baths            0\n",
       "purpose          0\n",
       "bedrooms         0\n",
       "Total_Area       0\n",
       "dtype: int64"
      ]
     },
     "execution_count": 13,
     "metadata": {},
     "output_type": "execute_result"
    }
   ],
   "source": [
    "df1.isna().sum()"
   ]
  },
  {
   "cell_type": "code",
   "execution_count": 14,
   "id": "6b0c144c",
   "metadata": {},
   "outputs": [],
   "source": [
    "df1.rename(columns={'Total_Area':'area'},inplace=True)"
   ]
  },
  {
   "cell_type": "code",
   "execution_count": 15,
   "id": "3a236a31",
   "metadata": {},
   "outputs": [],
   "source": [
    "df1 = df1[['property_type',  'location', 'baths', 'purpose', 'bedrooms',\n",
    "       'area','price']]"
   ]
  },
  {
   "cell_type": "code",
   "execution_count": 16,
   "id": "12b2c2a5",
   "metadata": {},
   "outputs": [
    {
     "data": {
      "text/html": [
       "<div>\n",
       "<style scoped>\n",
       "    .dataframe tbody tr th:only-of-type {\n",
       "        vertical-align: middle;\n",
       "    }\n",
       "\n",
       "    .dataframe tbody tr th {\n",
       "        vertical-align: top;\n",
       "    }\n",
       "\n",
       "    .dataframe thead th {\n",
       "        text-align: right;\n",
       "    }\n",
       "</style>\n",
       "<table border=\"1\" class=\"dataframe\">\n",
       "  <thead>\n",
       "    <tr style=\"text-align: right;\">\n",
       "      <th></th>\n",
       "      <th>property_type</th>\n",
       "      <th>location</th>\n",
       "      <th>baths</th>\n",
       "      <th>bedrooms</th>\n",
       "      <th>area</th>\n",
       "      <th>price</th>\n",
       "    </tr>\n",
       "  </thead>\n",
       "  <tbody>\n",
       "    <tr>\n",
       "      <th>156</th>\n",
       "      <td>House</td>\n",
       "      <td>Cantt</td>\n",
       "      <td>7</td>\n",
       "      <td>6</td>\n",
       "      <td>21780.0</td>\n",
       "      <td>450000000</td>\n",
       "    </tr>\n",
       "  </tbody>\n",
       "</table>\n",
       "</div>"
      ],
      "text/plain": [
       "    property_type location  baths  bedrooms     area      price\n",
       "156         House    Cantt      7         6  21780.0  450000000"
      ]
     },
     "execution_count": 16,
     "metadata": {},
     "output_type": "execute_result"
    }
   ],
   "source": [
    "df2 = df1.copy()\n",
    "df2 = df2[df2['purpose']=='For Sale']\n",
    "df2.drop(columns=['purpose'],inplace=True)\n",
    "df2.head(1)"
   ]
  },
  {
   "cell_type": "code",
   "execution_count": 17,
   "id": "7ea6680c",
   "metadata": {},
   "outputs": [
    {
     "data": {
      "text/html": [
       "<div>\n",
       "<style scoped>\n",
       "    .dataframe tbody tr th:only-of-type {\n",
       "        vertical-align: middle;\n",
       "    }\n",
       "\n",
       "    .dataframe tbody tr th {\n",
       "        vertical-align: top;\n",
       "    }\n",
       "\n",
       "    .dataframe thead th {\n",
       "        text-align: right;\n",
       "    }\n",
       "</style>\n",
       "<table border=\"1\" class=\"dataframe\">\n",
       "  <thead>\n",
       "    <tr style=\"text-align: right;\">\n",
       "      <th></th>\n",
       "      <th>property_type</th>\n",
       "      <th>location</th>\n",
       "      <th>baths</th>\n",
       "      <th>bedrooms</th>\n",
       "      <th>area</th>\n",
       "      <th>price</th>\n",
       "    </tr>\n",
       "  </thead>\n",
       "  <tbody>\n",
       "    <tr>\n",
       "      <th>156</th>\n",
       "      <td>House</td>\n",
       "      <td>Cantt</td>\n",
       "      <td>7</td>\n",
       "      <td>6</td>\n",
       "      <td>21780.0</td>\n",
       "      <td>450.0</td>\n",
       "    </tr>\n",
       "  </tbody>\n",
       "</table>\n",
       "</div>"
      ],
      "text/plain": [
       "    property_type location  baths  bedrooms     area  price\n",
       "156         House    Cantt      7         6  21780.0  450.0"
      ]
     },
     "execution_count": 17,
     "metadata": {},
     "output_type": "execute_result"
    }
   ],
   "source": [
    "df2['price'] = df2['price']/1e6 #in 10THlakhs unit\n",
    "df2.head(1)"
   ]
  },
  {
   "cell_type": "markdown",
   "id": "572fb661",
   "metadata": {},
   "source": [
    "### Removing Outliers"
   ]
  },
  {
   "cell_type": "code",
   "execution_count": 18,
   "id": "4dfaf4e3",
   "metadata": {},
   "outputs": [
    {
     "data": {
      "text/plain": [
       "(count    46353.000000\n",
       " mean         2.619507\n",
       " std          1.960773\n",
       " min          0.000000\n",
       " 25%          2.000000\n",
       " 50%          3.000000\n",
       " 75%          3.000000\n",
       " max         13.000000\n",
       " Name: baths, dtype: float64,\n",
       " count    46353.000000\n",
       " mean         3.073997\n",
       " std          1.809227\n",
       " min          0.000000\n",
       " 25%          2.000000\n",
       " 50%          3.000000\n",
       " 75%          4.000000\n",
       " max         16.000000\n",
       " Name: bedrooms, dtype: float64)"
      ]
     },
     "execution_count": 18,
     "metadata": {},
     "output_type": "execute_result"
    }
   ],
   "source": [
    "df2['baths'].describe() ,  df2.bedrooms.describe()"
   ]
  },
  {
   "cell_type": "code",
   "execution_count": 19,
   "id": "113b5c98",
   "metadata": {},
   "outputs": [],
   "source": [
    "df2 = df2[~((df2['baths']==0) | (df2['bedrooms'] == 0))]"
   ]
  },
  {
   "cell_type": "code",
   "execution_count": 20,
   "id": "5a2184ca",
   "metadata": {},
   "outputs": [
    {
     "data": {
      "text/plain": [
       "(    property_type              location  baths  bedrooms       area  price\n",
       " 157         House     Gulistan-e-Jauhar      8         6   4356.016   35.0\n",
       " 351         House  Gulshan-e-Iqbal Town      6         4  16335.000  250.0\n",
       " 517          Flat               Clifton      5         3  28041.853   48.0\n",
       " 518          Flat               Clifton      5         3  28041.853   50.0\n",
       " 704          Flat           Bath Island      5         3  28041.853   50.0,\n",
       " (36089, 6))"
      ]
     },
     "execution_count": 20,
     "metadata": {},
     "output_type": "execute_result"
    }
   ],
   "source": [
    "df3 = df2.copy()\n",
    "\n",
    "df3[df3['baths'] > df3['bedrooms']+1].head(), df2.shape"
   ]
  },
  {
   "cell_type": "code",
   "execution_count": 21,
   "id": "a8511eb0",
   "metadata": {},
   "outputs": [
    {
     "name": "stdout",
     "output_type": "stream",
     "text": [
      "    property_type     location  baths  bedrooms       area  price\n",
      "156         House        Cantt      7         6  21780.000  450.0\n",
      "158          Flat  DHA Defence      3         3  24230.339   21.0\n",
      "159         House        Malir      1         2   8712.032    6.5\n",
      "160         House   Gadap Town      4         4  26136.096   13.0\n",
      "161         House  DHA Defence      4         4   1089.004   32.0\n"
     ]
    },
    {
     "data": {
      "text/plain": [
       "(34035, 6)"
      ]
     },
     "execution_count": 21,
     "metadata": {},
     "output_type": "execute_result"
    }
   ],
   "source": [
    "df3 = df3[~(df3['baths'] > df3['bedrooms']+1)]\n",
    "\n",
    "df3 = df3[df3['bedrooms'] <= df3['baths'] + 1]\n",
    "\n",
    "print(df3.head())\n",
    "df3.shape"
   ]
  },
  {
   "cell_type": "code",
   "execution_count": 22,
   "id": "3615d772",
   "metadata": {},
   "outputs": [
    {
     "data": {
      "text/plain": [
       "count     34035.000000\n",
       "mean      12455.505313\n",
       "std       16234.945037\n",
       "min           0.000000\n",
       "25%        2722.510000\n",
       "50%       10890.000000\n",
       "75%       15246.056000\n",
       "max      952875.000000\n",
       "Name: area, dtype: float64"
      ]
     },
     "execution_count": 22,
     "metadata": {},
     "output_type": "execute_result"
    }
   ],
   "source": [
    "df3['area'].describe()"
   ]
  },
  {
   "cell_type": "code",
   "execution_count": 23,
   "id": "d6851568",
   "metadata": {},
   "outputs": [
    {
     "data": {
      "text/plain": [
       "<Axes: xlabel='area', ylabel='Density'>"
      ]
     },
     "execution_count": 23,
     "metadata": {},
     "output_type": "execute_result"
    },
    {
     "data": {
      "image/png": "[encoded data removed]",
      "text/plain": [
       "<Figure size 640x480 with 1 Axes>"
      ]
     },
     "metadata": {},
     "output_type": "display_data"
    }
   ],
   "source": [
    "sns.kdeplot(df3[df3['area']<df3['area'].quantile(0.75)]['area'])"
   ]
  },
  {
   "cell_type": "code",
   "execution_count": 24,
   "id": "d12b65a4",
   "metadata": {},
   "outputs": [
    {
     "data": {
      "text/plain": [
       "<Axes: xlabel='area', ylabel='Density'>"
      ]
     },
     "execution_count": 24,
     "metadata": {},
     "output_type": "execute_result"
    },
    {
     "data": {
      "image/png": "[encoded data removed]",
      "text/plain": [
       "<Figure size 640x480 with 1 Axes>"
      ]
     },
     "metadata": {},
     "output_type": "display_data"
    }
   ],
   "source": [
    "df4 = df3.copy()\n",
    "df4 = df4[(df4['area'] >= 500) & (df4['area'] <= df4['area'].quantile(0.75))]\n",
    "df4 = df4[df4['area']<10000]\n",
    "\n",
    "sns.kdeplot(df4['area'])"
   ]
  },
  {
   "cell_type": "code",
   "execution_count": 25,
   "id": "7798cd36",
   "metadata": {},
   "outputs": [
    {
     "data": {
      "text/html": [
       "<div>\n",
       "<style scoped>\n",
       "    .dataframe tbody tr th:only-of-type {\n",
       "        vertical-align: middle;\n",
       "    }\n",
       "\n",
       "    .dataframe tbody tr th {\n",
       "        vertical-align: top;\n",
       "    }\n",
       "\n",
       "    .dataframe thead th {\n",
       "        text-align: right;\n",
       "    }\n",
       "</style>\n",
       "<table border=\"1\" class=\"dataframe\">\n",
       "  <thead>\n",
       "    <tr style=\"text-align: right;\">\n",
       "      <th></th>\n",
       "      <th>property_type</th>\n",
       "      <th>location</th>\n",
       "      <th>baths</th>\n",
       "      <th>bedrooms</th>\n",
       "      <th>area</th>\n",
       "      <th>price</th>\n",
       "      <th>price_per_sqft</th>\n",
       "    </tr>\n",
       "  </thead>\n",
       "  <tbody>\n",
       "    <tr>\n",
       "      <th>159</th>\n",
       "      <td>House</td>\n",
       "      <td>Malir</td>\n",
       "      <td>1</td>\n",
       "      <td>2</td>\n",
       "      <td>8712.032</td>\n",
       "      <td>6.5</td>\n",
       "      <td>746.094597</td>\n",
       "    </tr>\n",
       "    <tr>\n",
       "      <th>161</th>\n",
       "      <td>House</td>\n",
       "      <td>DHA Defence</td>\n",
       "      <td>4</td>\n",
       "      <td>4</td>\n",
       "      <td>1089.004</td>\n",
       "      <td>32.0</td>\n",
       "      <td>29384.648725</td>\n",
       "    </tr>\n",
       "    <tr>\n",
       "      <th>164</th>\n",
       "      <td>House</td>\n",
       "      <td>DHA Defence</td>\n",
       "      <td>6</td>\n",
       "      <td>6</td>\n",
       "      <td>5445.000</td>\n",
       "      <td>110.0</td>\n",
       "      <td>20202.020202</td>\n",
       "    </tr>\n",
       "    <tr>\n",
       "      <th>175</th>\n",
       "      <td>Flat</td>\n",
       "      <td>Abul Hassan Isphani Road</td>\n",
       "      <td>2</td>\n",
       "      <td>2</td>\n",
       "      <td>8712.032</td>\n",
       "      <td>4.1</td>\n",
       "      <td>470.613515</td>\n",
       "    </tr>\n",
       "    <tr>\n",
       "      <th>180</th>\n",
       "      <td>House</td>\n",
       "      <td>Malir</td>\n",
       "      <td>5</td>\n",
       "      <td>5</td>\n",
       "      <td>3811.514</td>\n",
       "      <td>59.5</td>\n",
       "      <td>15610.594635</td>\n",
       "    </tr>\n",
       "  </tbody>\n",
       "</table>\n",
       "</div>"
      ],
      "text/plain": [
       "    property_type                  location  baths  bedrooms      area  price  \\\n",
       "159         House                     Malir      1         2  8712.032    6.5   \n",
       "161         House               DHA Defence      4         4  1089.004   32.0   \n",
       "164         House               DHA Defence      6         6  5445.000  110.0   \n",
       "175          Flat  Abul Hassan Isphani Road      2         2  8712.032    4.1   \n",
       "180         House                     Malir      5         5  3811.514   59.5   \n",
       "\n",
       "     price_per_sqft  \n",
       "159      746.094597  \n",
       "161    29384.648725  \n",
       "164    20202.020202  \n",
       "175      470.613515  \n",
       "180    15610.594635  "
      ]
     },
     "execution_count": 25,
     "metadata": {},
     "output_type": "execute_result"
    }
   ],
   "source": [
    "df4['price_per_sqft'] = df4['price']*1e6/df4['area']\n",
    "df4.head()"
   ]
  },
  {
   "cell_type": "code",
   "execution_count": 26,
   "id": "752a66ae",
   "metadata": {},
   "outputs": [
    {
     "data": {
      "text/plain": [
       "(-12220.55992114229, 23126.584642313697)"
      ]
     },
     "execution_count": 26,
     "metadata": {},
     "output_type": "execute_result"
    }
   ],
   "source": [
    "q1 = df4['price_per_sqft'].quantile(0.25)\n",
    "q3 = df4['price_per_sqft'].quantile(0.75)\n",
    "\n",
    "iqr = q3-q1\n",
    "\n",
    "lb = q1 - 1.5*(iqr)\n",
    "ub = q3 + 1.5*iqr\n",
    "\n",
    "lb,ub"
   ]
  },
  {
   "cell_type": "code",
   "execution_count": 27,
   "id": "df8e37bc",
   "metadata": {},
   "outputs": [
    {
     "data": {
      "text/html": [
       "<div>\n",
       "<style scoped>\n",
       "    .dataframe tbody tr th:only-of-type {\n",
       "        vertical-align: middle;\n",
       "    }\n",
       "\n",
       "    .dataframe tbody tr th {\n",
       "        vertical-align: top;\n",
       "    }\n",
       "\n",
       "    .dataframe thead th {\n",
       "        text-align: right;\n",
       "    }\n",
       "</style>\n",
       "<table border=\"1\" class=\"dataframe\">\n",
       "  <thead>\n",
       "    <tr style=\"text-align: right;\">\n",
       "      <th></th>\n",
       "      <th>property_type</th>\n",
       "      <th>location</th>\n",
       "      <th>baths</th>\n",
       "      <th>bedrooms</th>\n",
       "      <th>area</th>\n",
       "      <th>price</th>\n",
       "      <th>price_per_sqft</th>\n",
       "    </tr>\n",
       "  </thead>\n",
       "  <tbody>\n",
       "    <tr>\n",
       "      <th>710</th>\n",
       "      <td>House</td>\n",
       "      <td>Gadap Town</td>\n",
       "      <td>3</td>\n",
       "      <td>4</td>\n",
       "      <td>7623.028</td>\n",
       "      <td>3.2</td>\n",
       "      <td>419.780696</td>\n",
       "    </tr>\n",
       "    <tr>\n",
       "      <th>1443</th>\n",
       "      <td>House</td>\n",
       "      <td>Gadap Town</td>\n",
       "      <td>3</td>\n",
       "      <td>3</td>\n",
       "      <td>9256.534</td>\n",
       "      <td>4.0</td>\n",
       "      <td>432.127187</td>\n",
       "    </tr>\n",
       "    <tr>\n",
       "      <th>2331</th>\n",
       "      <td>House</td>\n",
       "      <td>Gadap Town</td>\n",
       "      <td>5</td>\n",
       "      <td>4</td>\n",
       "      <td>2722.510</td>\n",
       "      <td>18.0</td>\n",
       "      <td>6611.545963</td>\n",
       "    </tr>\n",
       "    <tr>\n",
       "      <th>3780</th>\n",
       "      <td>House</td>\n",
       "      <td>Gadap Town</td>\n",
       "      <td>4</td>\n",
       "      <td>4</td>\n",
       "      <td>2178.008</td>\n",
       "      <td>12.5</td>\n",
       "      <td>5739.189204</td>\n",
       "    </tr>\n",
       "    <tr>\n",
       "      <th>3866</th>\n",
       "      <td>House</td>\n",
       "      <td>Gadap Town</td>\n",
       "      <td>3</td>\n",
       "      <td>2</td>\n",
       "      <td>1361.255</td>\n",
       "      <td>5.9</td>\n",
       "      <td>4334.235687</td>\n",
       "    </tr>\n",
       "  </tbody>\n",
       "</table>\n",
       "</div>"
      ],
      "text/plain": [
       "     property_type    location  baths  bedrooms      area  price  \\\n",
       "710          House  Gadap Town      3         4  7623.028    3.2   \n",
       "1443         House  Gadap Town      3         3  9256.534    4.0   \n",
       "2331         House  Gadap Town      5         4  2722.510   18.0   \n",
       "3780         House  Gadap Town      4         4  2178.008   12.5   \n",
       "3866         House  Gadap Town      3         2  1361.255    5.9   \n",
       "\n",
       "      price_per_sqft  \n",
       "710       419.780696  \n",
       "1443      432.127187  \n",
       "2331     6611.545963  \n",
       "3780     5739.189204  \n",
       "3866     4334.235687  "
      ]
     },
     "execution_count": 27,
     "metadata": {},
     "output_type": "execute_result"
    }
   ],
   "source": [
    "tempdf = df4[(df4['property_type'] == 'House') & (df4['location'] == 'Gadap Town')]\n",
    "tempdf.head()"
   ]
  },
  {
   "cell_type": "code",
   "execution_count": 28,
   "id": "57e785c7",
   "metadata": {},
   "outputs": [],
   "source": [
    "# tempdf.loc[:, 'price'] = tempdf['price'] * 1e6"
   ]
  },
  {
   "cell_type": "code",
   "execution_count": 29,
   "id": "f2d230b4",
   "metadata": {},
   "outputs": [
    {
     "data": {
      "text/plain": [
       "<Axes: xlabel='area', ylabel='price'>"
      ]
     },
     "execution_count": 29,
     "metadata": {},
     "output_type": "execute_result"
    },
    {
     "data": {
      "image/png": "[encoded data removed]",
      "text/plain": [
       "<Figure size 640x480 with 1 Axes>"
      ]
     },
     "metadata": {},
     "output_type": "display_data"
    }
   ],
   "source": [
    "sns.scatterplot(data=tempdf,x='area',y='price')"
   ]
  },
  {
   "cell_type": "code",
   "execution_count": 30,
   "id": "789c68d9",
   "metadata": {},
   "outputs": [
    {
     "data": {
      "text/html": [
       "<div>\n",
       "<style scoped>\n",
       "    .dataframe tbody tr th:only-of-type {\n",
       "        vertical-align: middle;\n",
       "    }\n",
       "\n",
       "    .dataframe tbody tr th {\n",
       "        vertical-align: top;\n",
       "    }\n",
       "\n",
       "    .dataframe thead th {\n",
       "        text-align: right;\n",
       "    }\n",
       "</style>\n",
       "<table border=\"1\" class=\"dataframe\">\n",
       "  <thead>\n",
       "    <tr style=\"text-align: right;\">\n",
       "      <th></th>\n",
       "      <th>property_type</th>\n",
       "      <th>location</th>\n",
       "      <th>baths</th>\n",
       "      <th>bedrooms</th>\n",
       "      <th>area</th>\n",
       "      <th>price</th>\n",
       "      <th>price_per_sqft</th>\n",
       "    </tr>\n",
       "  </thead>\n",
       "  <tbody>\n",
       "    <tr>\n",
       "      <th>52565</th>\n",
       "      <td>House</td>\n",
       "      <td>Gadap Town</td>\n",
       "      <td>2</td>\n",
       "      <td>2</td>\n",
       "      <td>6534.024</td>\n",
       "      <td>1.3</td>\n",
       "      <td>198.958559</td>\n",
       "    </tr>\n",
       "  </tbody>\n",
       "</table>\n",
       "</div>"
      ],
      "text/plain": [
       "      property_type    location  baths  bedrooms      area  price  \\\n",
       "52565         House  Gadap Town      2         2  6534.024    1.3   \n",
       "\n",
       "       price_per_sqft  \n",
       "52565      198.958559  "
      ]
     },
     "execution_count": 30,
     "metadata": {},
     "output_type": "execute_result"
    }
   ],
   "source": [
    "tempdf[tempdf['price']==1.3]"
   ]
  },
  {
   "cell_type": "code",
   "execution_count": 41,
   "id": "6d1dbe6d",
   "metadata": {},
   "outputs": [],
   "source": [
    "df5= df4.copy()\n",
    "df5.drop(columns=['price_per_sqft'],inplace=True)"
   ]
  },
  {
   "cell_type": "code",
   "execution_count": 42,
   "id": "c02603f6",
   "metadata": {},
   "outputs": [
    {
     "data": {
      "text/plain": [
       "Index(['property_type', 'location', 'baths', 'bedrooms', 'area', 'price'], dtype='object')"
      ]
     },
     "execution_count": 42,
     "metadata": {},
     "output_type": "execute_result"
    }
   ],
   "source": [
    "df5.columns"
   ]
  },
  {
   "cell_type": "code",
   "execution_count": 43,
   "id": "86cdc9da",
   "metadata": {},
   "outputs": [],
   "source": [
    "# Import necessary libraries\n",
    "from sklearn.model_selection import train_test_split\n",
    "from sklearn.ensemble import RandomForestRegressor\n",
    "from sklearn.metrics import mean_squared_error, r2_score"
   ]
  },
  {
   "cell_type": "code",
   "execution_count": 44,
   "id": "fd426df5",
   "metadata": {},
   "outputs": [
    {
     "name": "stdout",
     "output_type": "stream",
     "text": [
      "Mean Squared Error: 122.47\n",
      "R^2 Score: 0.86\n"
     ]
    }
   ],
   "source": [
    "df5_encoded = pd.get_dummies(df5, columns=['property_type', 'location'])\n",
    "\n",
    "# Define feature matrix X and target vector y\n",
    "X = df5_encoded.drop(columns=['price'])  # Drop the 'price' column to get features\n",
    "y = df5_encoded['price']  # Target variable\n",
    "\n",
    "# Split the data into training and testing sets\n",
    "X_train, X_test, y_train, y_test = train_test_split(X, y, test_size=0.3, random_state=42)\n",
    "\n",
    "# Initialize the Random Forest Regressor\n",
    "rf_regressor = RandomForestRegressor(n_estimators=100, random_state=42)\n",
    "\n",
    "# Train the model\n",
    "rf_regressor.fit(X_train, y_train)\n",
    "\n",
    "# Make predictions\n",
    "y_pred = rf_regressor.predict(X_test)\n",
    "\n",
    "# Evaluate the model\n",
    "mse = mean_squared_error(y_test, y_pred)\n",
    "r2 = r2_score(y_test, y_pred)\n",
    "\n",
    "# Print results\n",
    "print(f'Mean Squared Error: {mse:.2f}')\n",
    "print(f'R^2 Score: {r2:.2f}')"
   ]
  },
  {
   "cell_type": "code",
   "execution_count": 45,
   "id": "c72862d5",
   "metadata": {},
   "outputs": [
    {
     "data": {
      "text/plain": [
       "(4948, 4948, 4948)"
      ]
     },
     "execution_count": 45,
     "metadata": {},
     "output_type": "execute_result"
    }
   ],
   "source": [
    "len(X_test) , len(y_test) , len(y_pred)"
   ]
  },
  {
   "cell_type": "code",
   "execution_count": 46,
   "id": "42bae629",
   "metadata": {},
   "outputs": [
    {
     "data": {
      "text/plain": [
       "4948"
      ]
     },
     "execution_count": 46,
     "metadata": {},
     "output_type": "execute_result"
    }
   ],
   "source": [
    "len(X_test['area'])"
   ]
  },
  {
   "cell_type": "code",
   "execution_count": 47,
   "id": "3178e13e",
   "metadata": {},
   "outputs": [
    {
     "data": {
      "image/png": "[encoded data removed]",
      "text/plain": [
       "<Figure size 1000x600 with 1 Axes>"
      ]
     },
     "metadata": {},
     "output_type": "display_data"
    }
   ],
   "source": [
    "# Plotting Actual vs. Predicted values\n",
    "plt.figure(figsize=(10, 6))\n",
    "\n",
    "# Scatter plot of actual vs. predicted values\n",
    "plt.scatter(y_test, y_pred, label='Predicted vs Actual', color='blue', alpha=0.5)\n",
    "\n",
    "# Plot a reference line for perfect predictions\n",
    "plt.plot([y_test.min(), y_test.max()], [y_test.min(), y_test.max()], color='red', linestyle='--', label='Perfect Prediction')\n",
    "\n",
    "# Adding labels and title\n",
    "plt.xlabel('Actual Values')\n",
    "plt.ylabel('Predicted Values')\n",
    "plt.title('Actual vs. Predicted Values')\n",
    "plt.legend()\n",
    "\n",
    "# Show the plot\n",
    "plt.show()\n"
   ]
  },
  {
   "cell_type": "code",
   "execution_count": 49,
   "id": "d5f7515d",
   "metadata": {},
   "outputs": [],
   "source": [
    "import pickle\n",
    "\n",
    "with open('house_price_model.pkl', 'wb') as file:\n",
    "    pickle.dump(rf_regressor, file)"
   ]
  },
  {
   "cell_type": "code",
   "execution_count": null,
   "id": "14138ce0",
   "metadata": {},
   "outputs": [],
   "source": []
  }
 ],
 "metadata": {
  "kernelspec": {
   "display_name": "Python 3 (ipykernel)",
   "language": "python",
   "name": "python3"
  },
  "language_info": {
   "codemirror_mode": {
    "name": "ipython",
    "version": 3
   },
   "file_extension": ".py",
   "mimetype": "text/x-python",
   "name": "python",
   "nbconvert_exporter": "python",
   "pygments_lexer": "ipython3",
   "version": "3.11.5"
  }
 },
 "nbformat": 4,
 "nbformat_minor": 5
}
